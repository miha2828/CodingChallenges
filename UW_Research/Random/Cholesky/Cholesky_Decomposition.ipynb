{
 "cells": [
  {
   "cell_type": "code",
   "execution_count": 1,
   "id": "5ee0de62",
   "metadata": {},
   "outputs": [],
   "source": [
    "# Goal: code up implementation of Cholesky decomposition"
   ]
  },
  {
   "cell_type": "code",
   "execution_count": 2,
   "id": "5943ee45",
   "metadata": {},
   "outputs": [],
   "source": [
    "# Packages:\n",
    "import numpy as np"
   ]
  },
  {
   "cell_type": "code",
   "execution_count": 6,
   "id": "5f3f26e7",
   "metadata": {},
   "outputs": [
    {
     "name": "stdout",
     "output_type": "stream",
     "text": [
      "[[4 0]\n",
      " [0 4]]\n"
     ]
    }
   ],
   "source": [
    "A = np.array([[2,0],[0,2]])\n",
    "B = np.array([[2,0],[0,2]])\n",
    "# print(A)\n",
    "# print(B)\n",
    "C = A.dot(B)\n",
    "print(C)"
   ]
  },
  {
   "cell_type": "code",
   "execution_count": 13,
   "id": "6707a31b",
   "metadata": {},
   "outputs": [
    {
     "name": "stdout",
     "output_type": "stream",
     "text": [
      "[[16  8]\n",
      " [ 8 29]]\n"
     ]
    }
   ],
   "source": [
    "A = np.array([[16,8],[8,29]])\n",
    "print(A)"
   ]
  },
  {
   "cell_type": "code",
   "execution_count": 14,
   "id": "a8cb6348",
   "metadata": {},
   "outputs": [
    {
     "name": "stdout",
     "output_type": "stream",
     "text": [
      "4.0\n"
     ]
    }
   ],
   "source": [
    "# \"Code\" \n",
    "r11 = (A[0][0])**0.5\n",
    "print(r11)"
   ]
  },
  {
   "cell_type": "code",
   "execution_count": 16,
   "id": "a45533ac",
   "metadata": {},
   "outputs": [
    {
     "name": "stdout",
     "output_type": "stream",
     "text": [
      "2.0\n"
     ]
    }
   ],
   "source": [
    "r21 = (1/r11)*A[1][0]\n",
    "print(r21)\n",
    "r12 = 0 \n",
    "r22 = "
   ]
  },
  {
   "cell_type": "code",
   "execution_count": null,
   "id": "7db8f6db",
   "metadata": {},
   "outputs": [],
   "source": []
  }
 ],
 "metadata": {
  "kernelspec": {
   "display_name": "Python 3",
   "language": "python",
   "name": "python3"
  },
  "language_info": {
   "codemirror_mode": {
    "name": "ipython",
    "version": 3
   },
   "file_extension": ".py",
   "mimetype": "text/x-python",
   "name": "python",
   "nbconvert_exporter": "python",
   "pygments_lexer": "ipython3",
   "version": "3.8.8"
  }
 },
 "nbformat": 4,
 "nbformat_minor": 5
}
