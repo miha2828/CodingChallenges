{
 "cells": [
  {
   "cell_type": "code",
   "execution_count": 3,
   "id": "816f38bd",
   "metadata": {},
   "outputs": [],
   "source": [
    "# Project Euler # 22"
   ]
  },
  {
   "cell_type": "code",
   "execution_count": 4,
   "id": "4e936334",
   "metadata": {},
   "outputs": [],
   "source": [
    "# Packages:\n",
    "import pandas as pd"
   ]
  },
  {
   "cell_type": "code",
   "execution_count": 12,
   "id": "08295548",
   "metadata": {},
   "outputs": [
    {
     "name": "stdout",
     "output_type": "stream",
     "text": [
      "   0         1      2        3          4         5      6      7     \\\n",
      "0  MARY  PATRICIA  LINDA  BARBARA  ELIZABETH  JENNIFER  MARIA  SUSAN   \n",
      "\n",
      "       8        9     ...      5153  5154     5155  5156 5157   5158    5159  \\\n",
      "0  MARGARET  DOROTHY  ...  VINCENZO  SHON  LYNWOOD  JERE  HAI  ELDEN  DORSEY   \n",
      "\n",
      "     5160       5161    5162  \n",
      "0  DARELL  BRODERICK  ALONSO  \n",
      "\n",
      "[1 rows x 5163 columns]\n"
     ]
    }
   ],
   "source": [
    "# Ingest data:\n",
    "data = pd.read_csv('p022_names.txt', header=None)\n",
    "print(data.head())"
   ]
  },
  {
   "cell_type": "code",
   "execution_count": null,
   "id": "bfdc0931",
   "metadata": {},
   "outputs": [],
   "source": []
  }
 ],
 "metadata": {
  "kernelspec": {
   "display_name": "Python 3",
   "language": "python",
   "name": "python3"
  },
  "language_info": {
   "codemirror_mode": {
    "name": "ipython",
    "version": 3
   },
   "file_extension": ".py",
   "mimetype": "text/x-python",
   "name": "python",
   "nbconvert_exporter": "python",
   "pygments_lexer": "ipython3",
   "version": "3.8.8"
  }
 },
 "nbformat": 4,
 "nbformat_minor": 5
}
