{
 "cells": [
  {
   "cell_type": "code",
   "execution_count": 48,
   "metadata": {},
   "outputs": [],
   "source": [
    "# Goal: take the EVEN members of the Fibonacci sequence which are\n",
    "# <= 4 Million, and return their sum.\n",
    "# Source: https://projecteuler.net/problem=2\n",
    "rm(list=ls())"
   ]
  },
  {
   "cell_type": "code",
   "execution_count": 49,
   "metadata": {},
   "outputs": [
    {
     "name": "stdout",
     "output_type": "stream",
     "text": [
      "[1] 2\n"
     ]
    }
   ],
   "source": [
    "val1 <- 1\n",
    "val2 <- 2\n",
    "# Sum of even vals\n",
    "even_sum <- 0\n",
    "even_sum <- (even_sum + val2)\n",
    "print(even_sum)"
   ]
  },
  {
   "cell_type": "code",
   "execution_count": 50,
   "metadata": {},
   "outputs": [
    {
     "name": "stdout",
     "output_type": "stream",
     "text": [
      "[1] 3\n",
      "[1] 5\n",
      "[1] 8\n",
      "[1] 13\n",
      "[1] 21\n",
      "[1] 34\n",
      "[1] 55\n",
      "[1] 89\n",
      "[1] 144\n",
      "[1] 233\n",
      "[1] 377\n",
      "[1] 610\n",
      "[1] 987\n",
      "[1] 1597\n",
      "[1] 2584\n",
      "[1] 4181\n",
      "[1] 6765\n",
      "[1] 10946\n",
      "[1] 17711\n",
      "[1] 28657\n",
      "[1] 46368\n",
      "[1] 75025\n",
      "[1] 121393\n",
      "[1] 196418\n",
      "[1] 317811\n",
      "[1] 514229\n",
      "[1] 832040\n",
      "[1] 1346269\n",
      "[1] 2178309\n",
      "[1] 3524578\n",
      "[1] 5702887\n"
     ]
    }
   ],
   "source": [
    "for (i in 1:31)  # 31\n",
    "{\n",
    "    val3 <- (val1 + val2)\n",
    "    print(val3)\n",
    "    \n",
    "    # Add on if even:\n",
    "    if( (val3 %% 2)==0 ) \n",
    "    {\n",
    "        even_sum <- (even_sum+val3)\n",
    "    }\n",
    "    # print(even_sum)\n",
    "    \n",
    "    # redefine\n",
    "    val1 <- val2\n",
    "    val2 <- val3  \n",
    "}"
   ]
  },
  {
   "cell_type": "code",
   "execution_count": 51,
   "metadata": {},
   "outputs": [
    {
     "name": "stdout",
     "output_type": "stream",
     "text": [
      "[1] 4613732\n"
     ]
    }
   ],
   "source": [
    "print(even_sum)\n",
    "# Correct!"
   ]
  }
 ],
 "metadata": {
  "kernelspec": {
   "display_name": "R",
   "language": "R",
   "name": "ir"
  },
  "language_info": {
   "codemirror_mode": "r",
   "file_extension": ".r",
   "mimetype": "text/x-r-source",
   "name": "R",
   "pygments_lexer": "r",
   "version": "3.5.1"
  }
 },
 "nbformat": 4,
 "nbformat_minor": 2
}
